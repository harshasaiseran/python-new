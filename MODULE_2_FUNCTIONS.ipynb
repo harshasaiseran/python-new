{
  "nbformat": 4,
  "nbformat_minor": 0,
  "metadata": {
    "colab": {
      "name": "MODULE-2 FUNCTIONS",
      "provenance": [],
      "collapsed_sections": [],
      "authorship_tag": "ABX9TyOEhrZJy/otdbVVHOzhFOkK",
      "include_colab_link": true
    },
    "kernelspec": {
      "name": "python3",
      "display_name": "Python 3"
    },
    "language_info": {
      "name": "python"
    }
  },
  "cells": [
    {
      "cell_type": "markdown",
      "metadata": {
        "id": "view-in-github",
        "colab_type": "text"
      },
      "source": [
        "<a href=\"https://colab.research.google.com/github/harshasaiseran/python-new/blob/module-2/MODULE_2_FUNCTIONS.ipynb\" target=\"_parent\"><img src=\"https://colab.research.google.com/assets/colab-badge.svg\" alt=\"Open In Colab\"/></a>"
      ]
    },
    {
      "cell_type": "markdown",
      "source": [
        "#MODULE-2"
      ],
      "metadata": {
        "id": "0audL9LtoyXH"
      }
    },
    {
      "cell_type": "code",
      "source": [
        "#Create a function which accepts two inputs from the user and compute nCr\n",
        "def nCr(a,b):\n",
        "  return(fact(a)/(fact(b)\n",
        "                 *fact(a-b)))\n",
        "a=int(input(\"\"))\n",
        "b=int(input(\"\"))\n",
        "def fact(a):\n",
        "  res=1\n",
        "  for i in range(2,a+1):\n",
        "   res =res*i\n",
        "  return res\n",
        "print(int(nCr(a,b)))\n",
        "\n"
      ],
      "metadata": {
        "colab": {
          "base_uri": "https://localhost:8080/"
        },
        "id": "pAP51cUSo7CF",
        "outputId": "ea8d4c74-d46d-49ed-be7b-f890cd739e5b"
      },
      "execution_count": null,
      "outputs": [
        {
          "output_type": "stream",
          "name": "stdout",
          "text": [
            "10\n",
            "5\n",
            "252\n"
          ]
        }
      ]
    },
    {
      "cell_type": "markdown",
      "source": [
        "##Program to print a specified list after removing the 0th, 4th and 5th elements.\n",
        "Sample List : ['Red', 'Green', 'White', 'Black', 'Pink', 'Yellow']\n",
        "Expected Output : ['Green', 'White', 'Black']"
      ],
      "metadata": {
        "id": "C8SCtvEf20G-"
      }
    },
    {
      "cell_type": "code",
      "source": [
        "a=['Blue', 'Green', 'White', 'Black',  'Yellow', 'Pink']\n",
        "print(a[1:5])"
      ],
      "metadata": {
        "colab": {
          "base_uri": "https://localhost:8080/"
        },
        "id": "ImVN-xqG22df",
        "outputId": "14279ef5-3b34-41b8-9ac1-cfc417f20636"
      },
      "execution_count": null,
      "outputs": [
        {
          "output_type": "stream",
          "name": "stdout",
          "text": [
            "['Green', 'White', 'Black', 'Yellow']\n"
          ]
        }
      ]
    },
    {
      "cell_type": "markdown",
      "source": [
        "##Recursive function to compute GCD of 2 numbers"
      ],
      "metadata": {
        "id": "EBTWQqpR56bT"
      }
    },
    {
      "cell_type": "code",
      "source": [
        "def gcd(a,b):\n",
        "  if(b==0):\n",
        "       return a\n",
        "  else:\n",
        "       return gcd(b,a%b)\n",
        "a=int(input(\"Enter first number:\"))\n",
        "b=int(input(\"Enter second number:\"))\n",
        "GCD=gcd(a,b)\n",
        "print(\"GCD is: +\")\n",
        "print(GCD)\n",
        " "
      ],
      "metadata": {
        "colab": {
          "base_uri": "https://localhost:8080/"
        },
        "id": "LKoa5-jC6Ecr",
        "outputId": "180eb8ed-8182-43e3-e50c-091af40ecb06"
      },
      "execution_count": null,
      "outputs": [
        {
          "output_type": "stream",
          "name": "stdout",
          "text": [
            "Enter first number:11\n",
            "Enter second number:22\n",
            "GCD is: +\n",
            "11\n"
          ]
        }
      ]
    },
    {
      "cell_type": "markdown",
      "source": [
        "##Recursive function to find product of two numbers"
      ],
      "metadata": {
        "id": "7ivcWEpo900Z"
      }
    },
    {
      "cell_type": "code",
      "source": [
        "def product(a,b):\n",
        "  if(a<b):\n",
        "    return product(b,a)\n",
        "  elif(b!=0):\n",
        "      return(a+product(a,b-1))\n",
        "  else:\n",
        "      return 0\n",
        "a=int(input(\"enter first number:\"))\n",
        "b=int(input(\"Enter second number: \"))\n",
        "print(\"Product is: \",product(a,b))"
      ],
      "metadata": {
        "colab": {
          "base_uri": "https://localhost:8080/"
        },
        "id": "UAsWAguB-9HB",
        "outputId": "75e19653-85b4-413f-c913-dc30942e09c6"
      },
      "execution_count": null,
      "outputs": [
        {
          "output_type": "stream",
          "name": "stdout",
          "text": [
            "enter first number:10\n",
            "Enter second number: 15\n",
            "Product is:  150\n"
          ]
        }
      ]
    },
    {
      "cell_type": "markdown",
      "source": [
        "##Recursive function to generate Fibonacci series"
      ],
      "metadata": {
        "id": "QsgNhxHABICX"
      }
    },
    {
      "cell_type": "code",
      "source": [
        "def recur_fibo(n):\n",
        "  if n <= 1:\n",
        "     return n\n",
        "  else:\n",
        "     return(recur_fibo(n-1) + recur_fibo(n-2))\n",
        "nterms = int(input(\"Enter how many terms of fibonnacci series you want: \"))\n",
        "# check if the number of terms is valid\n",
        "if nterms <= 0:\n",
        " print(\"Plese enter a positive integer\")\n",
        "else:\n",
        " print(\"Fibonacci sequence:\")\n",
        "for i in range(0,nterms):\n",
        " print(\" \" ,recur_fibo(i) , end=\"\")"
      ],
      "metadata": {
        "colab": {
          "base_uri": "https://localhost:8080/"
        },
        "id": "629qBeDRBVFJ",
        "outputId": "450f5347-faba-49e8-9a31-d431682b2cd1"
      },
      "execution_count": null,
      "outputs": [
        {
          "output_type": "stream",
          "name": "stdout",
          "text": [
            "Enter how many terms of fibonnacci series you want: 5\n",
            "Fibonacci sequence:\n",
            "  0  1  1  2  3"
          ]
        }
      ]
    },
    {
      "cell_type": "markdown",
      "source": [
        "##Program to get the difference between the two lists"
      ],
      "metadata": {
        "id": "FK-RYnW0BvkV"
      }
    },
    {
      "cell_type": "code",
      "source": [
        "list1 = [1, 3, 5, 7, 9]\n",
        "list2=[1, 2, 4, 6, 7, 8]\n",
        "diff_list1_list2 = list(set(list1) - set(list2))\n",
        "diff_list2_list1 = list(set(list2) - set(list1))\n",
        "total_diff = diff_list1_list2 + diff_list2_list1\n",
        "print(total_diff)"
      ],
      "metadata": {
        "colab": {
          "base_uri": "https://localhost:8080/"
        },
        "id": "SRRmYQTOBw-3",
        "outputId": "983189cd-9e9e-461b-bc06-4fc9db3503c2"
      },
      "execution_count": null,
      "outputs": [
        {
          "output_type": "stream",
          "name": "stdout",
          "text": [
            "[9, 3, 5, 8, 2, 4, 6]\n"
          ]
        }
      ]
    },
    {
      "cell_type": "markdown",
      "source": [
        "##Program to find the second smallest number and second largest number in a list."
      ],
      "metadata": {
        "id": "xFLKUW3dDskr"
      }
    },
    {
      "cell_type": "code",
      "source": [
        "def find_len(list1):\n",
        "    length = len(list1)\n",
        "    list1.sort()\n",
        "    print(\"Largest element is:\", list1[length - 1])\n",
        "    print(\"Smallest element is:\", list1[0])\n",
        "    print(\"Second Largest element is:\", list1[length - 2])\n",
        "    print(\"Second Smallest element is:\", list1[1])\n",
        "a=int(input(\"Enter the no. of terms in list: \"))\n",
        "list1=[]\n",
        "for i in range (0,a):\n",
        "  t=input(\"Enter element: \")\n",
        "  list1.append(t)\n",
        "Largest = find_len(list1)"
      ],
      "metadata": {
        "id": "2e8mfYwNDuLa",
        "colab": {
          "base_uri": "https://localhost:8080/"
        },
        "outputId": "e42a9404-2218-474e-cdf1-7c7bcc074366"
      },
      "execution_count": null,
      "outputs": [
        {
          "output_type": "stream",
          "name": "stdout",
          "text": [
            "Enter the no. of terms in list: 5\n",
            "Enter element: 4\n",
            "Enter element: 6\n",
            "Enter element: 5\n",
            "Enter element: 5\n",
            "Enter element: 8\n",
            "Largest element is: 8\n",
            "Smallest element is: 4\n",
            "Second Largest element is: 6\n",
            "Second Smallest element is: 5\n"
          ]
        }
      ]
    },
    {
      "cell_type": "markdown",
      "source": [
        "##Given a list of numbers of list, write a Python program to create a list of tuples\n",
        "having first element as the number and second element as the square of the\n",
        "number.\n"
      ],
      "metadata": {
        "id": "7ILZ-lAWRQMR"
      }
    },
    {
      "cell_type": "code",
      "source": [
        "a=int(input(\"Enter the no. of terms in list: \")) \n",
        "list1=[]\n",
        "for i in range (0,a):\n",
        "  t=input(\"Enter element: \")\n",
        "  list1.append(t)\n",
        " for i in range (0,a):"
      ],
      "metadata": {
        "id": "wUeuXWXfRbXy"
      },
      "execution_count": null,
      "outputs": []
    },
    {
      "cell_type": "markdown",
      "source": [
        "Given list of tuples, remove all the tuples with length K.\n",
        "Input : test_list = [(4, 5), (4, ), (8, 6, 7), (1, ), (3, 4, 6, 7)], K = 2\n",
        "Output : [(4, ), (8, 6, 7), (1, ), (3, 4, 6, 7)]\n",
        "Explanation : (4, 5) of len = 2 is removed."
      ],
      "metadata": {
        "id": "xZckcDtLhS4C"
      }
    },
    {
      "cell_type": "code",
      "source": [
        ""
      ],
      "metadata": {
        "id": "d0MHKVnVhUFT"
      },
      "execution_count": null,
      "outputs": []
    }
  ]
}