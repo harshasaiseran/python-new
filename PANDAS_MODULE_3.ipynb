{
  "cells": [
    {
      "cell_type": "markdown",
      "metadata": {
        "id": "view-in-github",
        "colab_type": "text"
      },
      "source": [
        "<a href=\"https://colab.research.google.com/github/harshasaiseran/python-new/blob/module-3/PANDAS_MODULE_3.ipynb\" target=\"_parent\"><img src=\"https://colab.research.google.com/assets/colab-badge.svg\" alt=\"Open In Colab\"/></a>"
      ]
    },
    {
      "cell_type": "code",
      "execution_count": null,
      "metadata": {
        "id": "vaTxryBy_VnJ",
        "outputId": "98e6cec1-b28c-489a-88dc-0887e1c130d6"
      },
      "outputs": [
        {
          "name": "stdout",
          "output_type": "stream",
          "text": [
            "   s no: lunch (veg)   lunch(nonveg)     Tiffins    Dinner\n",
            "0      1  fried rice  mutton biryani        dosa     rasam\n",
            "1      2     biryani      crab curry      parata     salad\n",
            "2      3   curd rice     butter milk  butternaan  icecream\n"
          ]
        }
      ],
      "source": [
        "import pandas as pd\n",
        "\n",
        "df = pd.read_csv('C:\\\\Users\\ASUS\\Desktop\\Menu.csv')\n",
        "\n",
        "print(df.to_string())\n"
      ]
    },
    {
      "cell_type": "code",
      "execution_count": null,
      "metadata": {
        "id": "P73-ZLL7_VnU",
        "outputId": "346d6bdf-7de1-4cfb-d73a-2ec5ed9caf04"
      },
      "outputs": [
        {
          "name": "stdout",
          "output_type": "stream",
          "text": [
            "0    1.0\n",
            "1    7.5\n",
            "2    8.3\n",
            "dtype: float64\n"
          ]
        }
      ],
      "source": [
        "import pandas as nsk\n",
        "c=[1,7.5,8.3]\n",
        "z=nsk.Series(c)\n",
        "print(z)"
      ]
    },
    {
      "cell_type": "code",
      "execution_count": null,
      "metadata": {
        "id": "1dO0g3Pn_VnW",
        "outputId": "00562909-7ecd-4edf-ebf6-184f9f4d2d9a"
      },
      "outputs": [
        {
          "name": "stdout",
          "output_type": "stream",
          "text": [
            "   s no:  marks\n",
            "0      1   95.0\n",
            "2      3   93.0\n"
          ]
        }
      ],
      "source": [
        "import pandas as pd\n",
        "df = pd.read_csv('D:\\marks.csv')\n",
        "new_df = df.dropna()\n",
        "print(new_df.to_string())"
      ]
    },
    {
      "cell_type": "code",
      "execution_count": null,
      "metadata": {
        "id": "eMRBWECs_VnX",
        "outputId": "35e193ff-e9ef-42ef-bb4b-a3b09b11f013"
      },
      "outputs": [
        {
          "data": {
            "text/html": [
              "<div>\n",
              "<style scoped>\n",
              "    .dataframe tbody tr th:only-of-type {\n",
              "        vertical-align: middle;\n",
              "    }\n",
              "\n",
              "    .dataframe tbody tr th {\n",
              "        vertical-align: top;\n",
              "    }\n",
              "\n",
              "    .dataframe thead th {\n",
              "        text-align: right;\n",
              "    }\n",
              "</style>\n",
              "<table border=\"1\" class=\"dataframe\">\n",
              "  <thead>\n",
              "    <tr style=\"text-align: right;\">\n",
              "      <th></th>\n",
              "      <th>s no:</th>\n",
              "      <th>Name</th>\n",
              "      <th>age</th>\n",
              "      <th>Mobile no</th>\n",
              "      <th>mail</th>\n",
              "      <th>password</th>\n",
              "    </tr>\n",
              "  </thead>\n",
              "  <tbody>\n",
              "    <tr>\n",
              "      <th>0</th>\n",
              "      <td>1</td>\n",
              "      <td>Harsha</td>\n",
              "      <td>19</td>\n",
              "      <td>9492328458</td>\n",
              "      <td>**@gitam.in</td>\n",
              "      <td>********</td>\n",
              "    </tr>\n",
              "    <tr>\n",
              "      <th>1</th>\n",
              "      <td>2</td>\n",
              "      <td>Bhagyesh</td>\n",
              "      <td>18</td>\n",
              "      <td>7749859909</td>\n",
              "      <td>**@gitam.in</td>\n",
              "      <td>***********</td>\n",
              "    </tr>\n",
              "    <tr>\n",
              "      <th>2</th>\n",
              "      <td>3</td>\n",
              "      <td>Jogi Sai Kiran</td>\n",
              "      <td>20</td>\n",
              "      <td>9938827451</td>\n",
              "      <td>**@gitam.in</td>\n",
              "      <td>************</td>\n",
              "    </tr>\n",
              "    <tr>\n",
              "      <th>3</th>\n",
              "      <td>4</td>\n",
              "      <td>Aravind</td>\n",
              "      <td>19</td>\n",
              "      <td>8459399779</td>\n",
              "      <td>**@gitam.in</td>\n",
              "      <td>*********</td>\n",
              "    </tr>\n",
              "    <tr>\n",
              "      <th>4</th>\n",
              "      <td>5</td>\n",
              "      <td>Chaitanya</td>\n",
              "      <td>18</td>\n",
              "      <td>8468827839</td>\n",
              "      <td>**@gitam.in</td>\n",
              "      <td>**************</td>\n",
              "    </tr>\n",
              "    <tr>\n",
              "      <th>5</th>\n",
              "      <td>6</td>\n",
              "      <td>Bharadwaj</td>\n",
              "      <td>19</td>\n",
              "      <td>7703378139</td>\n",
              "      <td>**@gitam.in</td>\n",
              "      <td>*******</td>\n",
              "    </tr>\n",
              "    <tr>\n",
              "      <th>6</th>\n",
              "      <td>7</td>\n",
              "      <td>Pavan</td>\n",
              "      <td>18</td>\n",
              "      <td>6303478299</td>\n",
              "      <td>**@gitam.in</td>\n",
              "      <td>***********</td>\n",
              "    </tr>\n",
              "    <tr>\n",
              "      <th>7</th>\n",
              "      <td>8</td>\n",
              "      <td>Parabrahma</td>\n",
              "      <td>18</td>\n",
              "      <td>9947477982</td>\n",
              "      <td>**@gitam.in</td>\n",
              "      <td>**********</td>\n",
              "    </tr>\n",
              "    <tr>\n",
              "      <th>8</th>\n",
              "      <td>9</td>\n",
              "      <td>Raghu</td>\n",
              "      <td>20</td>\n",
              "      <td>8179938993</td>\n",
              "      <td>**@gitam.in</td>\n",
              "      <td>************</td>\n",
              "    </tr>\n",
              "    <tr>\n",
              "      <th>9</th>\n",
              "      <td>10</td>\n",
              "      <td>Phani</td>\n",
              "      <td>20</td>\n",
              "      <td>8474898477</td>\n",
              "      <td>**@gitam.in</td>\n",
              "      <td>************</td>\n",
              "    </tr>\n",
              "  </tbody>\n",
              "</table>\n",
              "</div>"
            ],
            "text/plain": [
              "   s no:            Name  age   Mobile no         mail        password\n",
              "0      1          Harsha   19  9492328458  **@gitam.in        ********\n",
              "1      2        Bhagyesh   18  7749859909  **@gitam.in     ***********\n",
              "2      3  Jogi Sai Kiran   20  9938827451  **@gitam.in    ************\n",
              "3      4         Aravind   19  8459399779  **@gitam.in       *********\n",
              "4      5       Chaitanya   18  8468827839  **@gitam.in  **************\n",
              "5      6       Bharadwaj   19  7703378139  **@gitam.in         *******\n",
              "6      7           Pavan   18  6303478299  **@gitam.in     ***********\n",
              "7      8      Parabrahma   18  9947477982  **@gitam.in      **********\n",
              "8      9           Raghu   20  8179938993  **@gitam.in    ************\n",
              "9     10           Phani   20  8474898477  **@gitam.in    ************"
            ]
          },
          "execution_count": 1,
          "metadata": {},
          "output_type": "execute_result"
        }
      ],
      "source": [
        "import pandas as pd\n",
        "a=pd.read_csv('D:\\data.csv')\n",
        "a[:10]"
      ]
    },
    {
      "cell_type": "code",
      "execution_count": null,
      "metadata": {
        "id": "2uZlJTzn_VnX",
        "outputId": "8e88441a-a76d-4f3c-c8f7-fc38f89552e6"
      },
      "outputs": [
        {
          "name": "stdout",
          "output_type": "stream",
          "text": [
            "   s no:            Name  age   Mobile no         mail        password\n",
            "0      1          Harsha   19  9492328458  **@gitam.in        ********\n",
            "1      2        Bhagyesh   18  7749859909  **@gitam.in     ***********\n",
            "2      3  Jogi Sai Kiran   20  9938827451  **@gitam.in    ************\n",
            "3      4         Aravind   19  8459399779  **@gitam.in       *********\n",
            "4      5       Chaitanya   18  8468827839  **@gitam.in  **************\n",
            "5      6       Bharadwaj   19  7703378139  **@gitam.in         *******\n",
            "6      7           Pavan   18  6303478299  **@gitam.in     ***********\n",
            "7      8      Parabrahma   18  9947477982  **@gitam.in      **********\n",
            "8      9           Raghu   20  8179938993  **@gitam.in    ************\n",
            "9     10           Phani   20  8474898477  **@gitam.in    ************\n"
          ]
        }
      ],
      "source": [
        "import pandas as pd\n",
        "a=pd.read_csv('D:\\data.csv')\n",
        "b=pd.DataFrame(a)\n",
        "print(b)"
      ]
    },
    {
      "cell_type": "code",
      "execution_count": null,
      "metadata": {
        "id": "6jjy-P-9_VnY",
        "outputId": "f056dfd5-bc3a-40ab-853d-fca0afefb0b8"
      },
      "outputs": [
        {
          "data": {
            "text/html": [
              "<div>\n",
              "<style scoped>\n",
              "    .dataframe tbody tr th:only-of-type {\n",
              "        vertical-align: middle;\n",
              "    }\n",
              "\n",
              "    .dataframe tbody tr th {\n",
              "        vertical-align: top;\n",
              "    }\n",
              "\n",
              "    .dataframe thead th {\n",
              "        text-align: right;\n",
              "    }\n",
              "</style>\n",
              "<table border=\"1\" class=\"dataframe\">\n",
              "  <thead>\n",
              "    <tr style=\"text-align: right;\">\n",
              "      <th></th>\n",
              "      <th>age</th>\n",
              "    </tr>\n",
              "  </thead>\n",
              "  <tbody>\n",
              "    <tr>\n",
              "      <th>min</th>\n",
              "      <td>18</td>\n",
              "    </tr>\n",
              "    <tr>\n",
              "      <th>max</th>\n",
              "      <td>20</td>\n",
              "    </tr>\n",
              "  </tbody>\n",
              "</table>\n",
              "</div>"
            ],
            "text/plain": [
              "     age\n",
              "min   18\n",
              "max   20"
            ]
          },
          "execution_count": 3,
          "metadata": {},
          "output_type": "execute_result"
        }
      ],
      "source": [
        "import pandas as pd\n",
        "df=pd.read_csv('D:\\data.csv')\n",
        "a[:10]\n",
        "a.aggregate({'age':['min','max']})"
      ]
    },
    {
      "cell_type": "code",
      "execution_count": null,
      "metadata": {
        "id": "wr9K5TbW_VnY",
        "outputId": "cc5782af-3a42-47da-89d2-0ba95ce6a68b"
      },
      "outputs": [
        {
          "data": {
            "text/html": [
              "<div>\n",
              "<style scoped>\n",
              "    .dataframe tbody tr th:only-of-type {\n",
              "        vertical-align: middle;\n",
              "    }\n",
              "\n",
              "    .dataframe tbody tr th {\n",
              "        vertical-align: top;\n",
              "    }\n",
              "\n",
              "    .dataframe thead th {\n",
              "        text-align: right;\n",
              "    }\n",
              "</style>\n",
              "<table border=\"1\" class=\"dataframe\">\n",
              "  <thead>\n",
              "    <tr style=\"text-align: right;\">\n",
              "      <th></th>\n",
              "      <th>password</th>\n",
              "    </tr>\n",
              "  </thead>\n",
              "  <tbody>\n",
              "    <tr>\n",
              "      <th>min</th>\n",
              "      <td>*******</td>\n",
              "    </tr>\n",
              "    <tr>\n",
              "      <th>max</th>\n",
              "      <td>**************</td>\n",
              "    </tr>\n",
              "  </tbody>\n",
              "</table>\n",
              "</div>"
            ],
            "text/plain": [
              "           password\n",
              "min         *******\n",
              "max  **************"
            ]
          },
          "execution_count": 4,
          "metadata": {},
          "output_type": "execute_result"
        }
      ],
      "source": [
        "import pandas as pd\n",
        "a=pd.read_csv('D:\\data.csv')\n",
        "a[:10]\n",
        "a.aggregate({'password':['min','max']})"
      ]
    },
    {
      "cell_type": "code",
      "execution_count": null,
      "metadata": {
        "id": "qsClrCel_VnZ",
        "outputId": "38627d64-a171-4284-f44a-7078741aeda3"
      },
      "outputs": [
        {
          "name": "stdout",
          "output_type": "stream",
          "text": [
            "<class 'pandas.core.groupby.groupby.DataFrameGroupBy'>\n"
          ]
        },
        {
          "ename": "ValueError",
          "evalue": "DataFrame constructor not properly called!",
          "output_type": "error",
          "traceback": [
            "\u001b[1;31m---------------------------------------------------------------------------\u001b[0m",
            "\u001b[1;31mValueError\u001b[0m                                Traceback (most recent call last)",
            "\u001b[1;32m<ipython-input-5-a05ad86e5e71>\u001b[0m in \u001b[0;36m<module>\u001b[1;34m()\u001b[0m\n\u001b[0;32m      2\u001b[0m \u001b[0ma\u001b[0m\u001b[1;33m=\u001b[0m\u001b[0mdf\u001b[0m\u001b[1;33m.\u001b[0m\u001b[0mgroupby\u001b[0m\u001b[1;33m(\u001b[0m\u001b[1;33m[\u001b[0m\u001b[1;34m'age'\u001b[0m\u001b[1;33m]\u001b[0m\u001b[1;33m)\u001b[0m\u001b[1;33m\u001b[0m\u001b[0m\n\u001b[0;32m      3\u001b[0m \u001b[0mprint\u001b[0m\u001b[1;33m(\u001b[0m\u001b[0mtype\u001b[0m\u001b[1;33m(\u001b[0m\u001b[0ma\u001b[0m\u001b[1;33m)\u001b[0m\u001b[1;33m)\u001b[0m\u001b[1;33m\u001b[0m\u001b[0m\n\u001b[1;32m----> 4\u001b[1;33m \u001b[0ma\u001b[0m \u001b[1;33m=\u001b[0m \u001b[0mpd\u001b[0m\u001b[1;33m.\u001b[0m\u001b[0mDataFrame\u001b[0m\u001b[1;33m(\u001b[0m\u001b[0ma\u001b[0m\u001b[1;33m)\u001b[0m\u001b[1;33m\u001b[0m\u001b[0m\n\u001b[0m",
            "\u001b[1;32m~\\AppData\\Local\\Continuum\\anaconda3\\lib\\site-packages\\pandas\\core\\frame.py\u001b[0m in \u001b[0;36m__init__\u001b[1;34m(self, data, index, columns, dtype, copy)\u001b[0m\n\u001b[0;32m    420\u001b[0m                                          dtype=values.dtype, copy=False)\n\u001b[0;32m    421\u001b[0m             \u001b[1;32melse\u001b[0m\u001b[1;33m:\u001b[0m\u001b[1;33m\u001b[0m\u001b[0m\n\u001b[1;32m--> 422\u001b[1;33m                 \u001b[1;32mraise\u001b[0m \u001b[0mValueError\u001b[0m\u001b[1;33m(\u001b[0m\u001b[1;34m'DataFrame constructor not properly called!'\u001b[0m\u001b[1;33m)\u001b[0m\u001b[1;33m\u001b[0m\u001b[0m\n\u001b[0m\u001b[0;32m    423\u001b[0m \u001b[1;33m\u001b[0m\u001b[0m\n\u001b[0;32m    424\u001b[0m         \u001b[0mNDFrame\u001b[0m\u001b[1;33m.\u001b[0m\u001b[0m__init__\u001b[0m\u001b[1;33m(\u001b[0m\u001b[0mself\u001b[0m\u001b[1;33m,\u001b[0m \u001b[0mmgr\u001b[0m\u001b[1;33m,\u001b[0m \u001b[0mfastpath\u001b[0m\u001b[1;33m=\u001b[0m\u001b[1;32mTrue\u001b[0m\u001b[1;33m)\u001b[0m\u001b[1;33m\u001b[0m\u001b[0m\n",
            "\u001b[1;31mValueError\u001b[0m: DataFrame constructor not properly called!"
          ]
        }
      ],
      "source": [
        "import pandas as vk \n",
        "a=df.groupby(['age'])\n",
        "print(type(a))\n",
        "a = pd.DataFrame(a)"
      ]
    },
    {
      "cell_type": "code",
      "execution_count": null,
      "metadata": {
        "id": "1irLoplv_Vna",
        "outputId": "e011ee60-6127-4833-b0ed-331df714d40e"
      },
      "outputs": [
        {
          "name": "stdout",
          "output_type": "stream",
          "text": [
            "Hi this is Harsha\n",
            "\n"
          ]
        },
        {
          "data": {
            "text/plain": [
              "<function TextIOWrapper.close()>"
            ]
          },
          "execution_count": 1,
          "metadata": {},
          "output_type": "execute_result"
        }
      ],
      "source": [
        "##file open\n",
        "f=open(\"D:\\\\seran.txt\",\"r\")\n",
        "print(f.read())\n",
        "f.close"
      ]
    },
    {
      "cell_type": "code",
      "execution_count": null,
      "metadata": {
        "id": "DbisqpMF_Vna",
        "outputId": "fede3dc6-40fc-4df1-8eb9-7cab6524a460"
      },
      "outputs": [
        {
          "name": "stdout",
          "output_type": "stream",
          "text": [
            "Hi this is Harsha\n",
            "\n"
          ]
        },
        {
          "data": {
            "text/plain": [
              "<function TextIOWrapper.close()>"
            ]
          },
          "execution_count": 2,
          "metadata": {},
          "output_type": "execute_result"
        }
      ],
      "source": [
        "##reading a file for certain limit\n",
        "f=open(\"D:\\\\seran.txt\",\"r\")\n",
        "print(f.read())\n",
        "f.close\n"
      ]
    },
    {
      "cell_type": "code",
      "execution_count": null,
      "metadata": {
        "id": "EGLHW41u_Vnb",
        "outputId": "f7ad511a-ca55-403e-ed53-1b0ae71684c3"
      },
      "outputs": [
        {
          "name": "stdout",
          "output_type": "stream",
          "text": [
            "Hi this is Harsha\n",
            "\n",
            "[]\n"
          ]
        }
      ],
      "source": [
        "##reading a content in newline\n",
        "f=open(\"D:\\\\seran.txt\",\"r\")\n",
        "print(f.readline())\n",
        "print(f.readlines())"
      ]
    },
    {
      "cell_type": "code",
      "execution_count": null,
      "metadata": {
        "id": "sKGpX55F_Vnb"
      },
      "outputs": [],
      "source": [
        "##Append a file\n",
        "f=open(\"D:\\\\seran.txt\",\"a\")\n",
        "f.write(\"\\nand my name is ash\")\n",
        "f.close()"
      ]
    },
    {
      "cell_type": "code",
      "execution_count": null,
      "metadata": {
        "id": "ainMBrKt_Vnb",
        "outputId": "6036a827-d53e-4b89-f6ea-f780a0844a9f"
      },
      "outputs": [
        {
          "name": "stdout",
          "output_type": "stream",
          "text": [
            "Hi this is Harsha\n",
            "\n"
          ]
        }
      ],
      "source": [
        "##Copy a file\n",
        "f=open(\"D:\\\\seran.txt\",\"r\")\n",
        "b=f.readline()\n",
        "f.close()\n",
        "f1=open(\"D:\\\\seran.txt\",\"w\")\n",
        "f1.writelines(b)\n",
        "f1.close()\n",
        "f2=open(\"D:\\\\seran.txt\",\"r\")\n",
        "for i in f2:\n",
        "    print(i)\n",
        "f2.close()"
      ]
    },
    {
      "cell_type": "code",
      "execution_count": null,
      "metadata": {
        "id": "_s7UqFdf_Vnc"
      },
      "outputs": [],
      "source": [
        "f = open(\"C:\\\\Users\\ASUS\\Desktop\\Harshasai.txt\", \"r\")\n",
        "print(f.read())"
      ]
    },
    {
      "cell_type": "code",
      "execution_count": null,
      "metadata": {
        "id": "vUX4OC5F_Vnc"
      },
      "outputs": [],
      "source": [
        "f = open(\"C:\\\\Users\\ASUS\\Desktop\\Harshasai.txt\", \"r\")\n",
        "print(f.read(5))"
      ]
    },
    {
      "cell_type": "code",
      "execution_count": null,
      "metadata": {
        "id": "NyT9AwIB_Vnc"
      },
      "outputs": [],
      "source": [
        "f = open(\"C:\\\\Users\\ASUS\\Desktop\\Harshasai.txt\", \"r\")\n",
        "print(f.readline())\n",
        "print(f.readline())"
      ]
    },
    {
      "cell_type": "code",
      "execution_count": null,
      "metadata": {
        "id": "IRudeaYO_Vnd"
      },
      "outputs": [],
      "source": [
        "f = open(\"C:\\\\Users\\ASUS\\Desktop\\Harshasai.txt\", \"r\")\n",
        "for x in f:\n",
        " print(x)"
      ]
    },
    {
      "cell_type": "code",
      "execution_count": null,
      "metadata": {
        "id": "VTDfToeW_Vnd"
      },
      "outputs": [],
      "source": [
        "f = open(\"C:\\\\Users\\ASUS\\Desktop\\Harshasai.txt\", \"a\")\n",
        "f.write(\"something new\")\n",
        "f.close()\n",
        "\n",
        "#open and read the file after the appending:\n",
        "f = open(\"C:\\\\Users\\ASUS\\Desktop\\Harshasai.txt\", \"r\")\n",
        "print(f.read())"
      ]
    }
  ],
  "metadata": {
    "kernelspec": {
      "display_name": "Python 3",
      "language": "python",
      "name": "python3"
    },
    "language_info": {
      "codemirror_mode": {
        "name": "ipython",
        "version": 3
      },
      "file_extension": ".py",
      "mimetype": "text/x-python",
      "name": "python",
      "nbconvert_exporter": "python",
      "pygments_lexer": "ipython3",
      "version": "3.6.5"
    },
    "colab": {
      "name": "PANDAS MODULE_3.ipynb",
      "provenance": [],
      "include_colab_link": true
    }
  },
  "nbformat": 4,
  "nbformat_minor": 0
}