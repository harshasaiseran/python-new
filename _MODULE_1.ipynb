{
  "nbformat": 4,
  "nbformat_minor": 0,
  "metadata": {
    "colab": {
      "name": "#MODULE-1",
      "provenance": [],
      "collapsed_sections": [],
      "authorship_tag": "ABX9TyMlq/K7ddu2mrtI/Txq6JlB",
      "include_colab_link": true
    },
    "kernelspec": {
      "name": "python3",
      "display_name": "Python 3"
    },
    "language_info": {
      "name": "python"
    }
  },
  "cells": [
    {
      "cell_type": "markdown",
      "metadata": {
        "id": "view-in-github",
        "colab_type": "text"
      },
      "source": [
        "<a href=\"https://colab.research.google.com/github/harshasaiseran/python-new/blob/module-1/_MODULE_1.ipynb\" target=\"_parent\"><img src=\"https://colab.research.google.com/assets/colab-badge.svg\" alt=\"Open In Colab\"/></a>"
      ]
    },
    {
      "cell_type": "markdown",
      "source": [
        "#Accept input from user and store it in variable and print the value."
      ],
      "metadata": {
        "id": "pUNqn-44eAY4"
      }
    },
    {
      "cell_type": "code",
      "source": [
        "a=int(input(\"enter any number\"))\n",
        "print(a)"
      ],
      "metadata": {
        "colab": {
          "base_uri": "https://localhost:8080/"
        },
        "id": "z056O37_eERs",
        "outputId": "17ed2261-2774-4d48-83c3-fa0d15432632"
      },
      "execution_count": null,
      "outputs": [
        {
          "output_type": "stream",
          "name": "stdout",
          "text": [
            "enter any number5\n",
            "5\n"
          ]
        }
      ]
    },
    {
      "cell_type": "markdown",
      "source": [
        "#Use of print statements and use of (.format )for printing different data types."
      ],
      "metadata": {
        "id": "jyTJX_n_ikR8"
      }
    },
    {
      "cell_type": "code",
      "source": [
        "a=\"RRR movie has been released\"\n",
        "b=\"I went to movie with friends\"\n",
        "#print(a+\"\"+b)\n",
        "#print(\"%a%b\"%(a,b))\n",
        "a=123\n",
        "b=\"hello{}\"\n",
        "print(b.formate(a,b))"
      ],
      "metadata": {
        "id": "uhdsRFviipbo"
      },
      "execution_count": null,
      "outputs": []
    },
    {
      "cell_type": "markdown",
      "source": [
        "#Take 2 numbers as user input and add, multiply, divide, subtract, remainder and print\n",
        "the output (Same operations on floating point input as well)"
      ],
      "metadata": {
        "id": "otLHI-Wsel_y"
      }
    },
    {
      "cell_type": "code",
      "source": [
        "a=float(input(\"enter a number\"))\n",
        "b=float(input(\"enter a number\"))\n",
        "c=a+b\n",
        "d=a-b\n",
        "e=a*b\n",
        "f=a/b\n",
        "g=a%b\n",
        "print(\"sum= \",c)\n",
        "print(\"subtract= \",d)\n",
        "print(\"product= \",e)\n",
        "print(\"division= \",f)\n",
        "print(\"remainder= \",g)"
      ],
      "metadata": {
        "colab": {
          "base_uri": "https://localhost:8080/"
        },
        "id": "ZB7h1Pivet9O",
        "outputId": "dfe4aaf6-39be-4280-967c-6f886c0ca717"
      },
      "execution_count": null,
      "outputs": [
        {
          "output_type": "stream",
          "name": "stdout",
          "text": [
            "enter a number5\n",
            "enter a number10\n",
            "sum=  15.0\n",
            "subtract=  -5.0\n",
            "product=  50.0\n",
            "division=  0.5\n",
            "remainder=  5.0\n"
          ]
        }
      ]
    },
    {
      "cell_type": "markdown",
      "source": [
        "#Conversion of one unit to another (such as hours to minutes, miles to km and etc)"
      ],
      "metadata": {
        "id": "mAt2H28WfYWV"
      }
    },
    {
      "cell_type": "code",
      "source": [
        "a=float(input(\"enter hours\"))\n",
        "print(\"minutes are= \",a*60)\n",
        "b=float(input(\"enter miles\"))\n",
        "print(\"km are= \",b*1.6)"
      ],
      "metadata": {
        "colab": {
          "base_uri": "https://localhost:8080/"
        },
        "id": "9RkvbJHBfd2J",
        "outputId": "0b209610-aa11-49c2-b80e-c32ad21ae24d"
      },
      "execution_count": null,
      "outputs": [
        {
          "output_type": "stream",
          "name": "stdout",
          "text": [
            "enter hours12\n",
            "minutes are=  720.0\n",
            "enter miles5\n",
            "km are=  8.0\n"
          ]
        }
      ]
    },
    {
      "cell_type": "markdown",
      "source": [
        "#Usage of mathematical functions in python like math.ceil, floor, fabs, fmod, trunc,\n",
        "pow, sqrt etc.\n"
      ],
      "metadata": {
        "id": "qersP7EufrSK"
      }
    },
    {
      "cell_type": "code",
      "source": [
        "import math\n",
        "a=float(input(\"enter a number \"))\n",
        "print(math.ceil(a))\n",
        "print(math.floor(a))\n",
        "print(math.fabs(a))\n",
        "print(math.trunc(a))\n",
        "print(math.sqrt(a))\n",
        "b=float(input(\"enter a number\"))\n",
        "c=float(input(\"enter a number \"))\n",
        "print(math.fmod(b,c))\n",
        "print(math.pow(b,c))\n",
        "\n"
      ],
      "metadata": {
        "colab": {
          "base_uri": "https://localhost:8080/"
        },
        "id": "toaj_Q4pf-0B",
        "outputId": "d515fa8e-153d-44fb-d948-e9d7759c1245"
      },
      "execution_count": null,
      "outputs": [
        {
          "output_type": "stream",
          "name": "stdout",
          "text": [
            "enter a number 3\n",
            "3\n",
            "3\n",
            "3.0\n",
            "3\n",
            "1.7320508075688772\n",
            "enter a number5\n",
            "enter a number 4\n",
            "1.0\n",
            "625.0\n"
          ]
        }
      ]
    },
    {
      "cell_type": "markdown",
      "source": [
        ""
      ],
      "metadata": {
        "id": "9wmdlQpAhF3c"
      }
    },
    {
      "cell_type": "markdown",
      "source": [
        "#Building a mathematical calculator that can perform operations according to user input.\n",
        "Use decision making statement.\n"
      ],
      "metadata": {
        "id": "WTjLA1U2hF9l"
      }
    },
    {
      "cell_type": "code",
      "source": [
        "a=float(input(\"enter number \"))\n",
        "b=float(input(\"enter a number \"))\n",
        "o=input(\"enter opeation\")\n",
        "if o==\"sum\":\n",
        "  print(a+b)\n",
        "elif o==\"subtract\":\n",
        "  print(a-b)\n",
        "elif o==\"product\":\n",
        "  print(a*b)\n",
        "elif o==\"remainder\":\n",
        "  print(a%b)\n",
        "else:\n",
        "  print(a/b)\n"
      ],
      "metadata": {
        "colab": {
          "base_uri": "https://localhost:8080/"
        },
        "id": "j7CStXEfhWio",
        "outputId": "b333573b-7d55-4bd6-d510-918553660c4b"
      },
      "execution_count": null,
      "outputs": [
        {
          "output_type": "stream",
          "name": "stdout",
          "text": [
            "enter number 5\n",
            "enter a number 5\n",
            "enter opeation1\n",
            "1.0\n"
          ]
        }
      ]
    },
    {
      "cell_type": "markdown",
      "source": [
        "#Accepting 5 different subject marks from user and displaying the grade of the student."
      ],
      "metadata": {
        "id": "a8LTDtB1hn37"
      }
    },
    {
      "cell_type": "code",
      "source": [
        "s1=float(input(\"enter marks\"))\n",
        "s2=float(input(\"enter marks\"))\n",
        "s3=float(input(\"enter marks\"))\n",
        "s4=float(input(\"enter marks\"))\n",
        "s5=float(input(\"enter marks\"))\n",
        "avg=(s1+s2+s3+s4+s5)/5\n",
        "if avg>=90:\n",
        "  print(\"a grade\")\n",
        "elif avg>=80:\n",
        "  print(\"b grade\")\n",
        "elif avg>=70:\n",
        "  print(\"c grade\")\n",
        "elif avg>=60:\n",
        "  print(\"d grade\")\n",
        "else:\n",
        "  print(\"fail\")"
      ],
      "metadata": {
        "colab": {
          "base_uri": "https://localhost:8080/"
        },
        "id": "Xe4Tz4WvhtMF",
        "outputId": "efeb7440-09f5-4d18-f23f-23b5822a6e6b"
      },
      "execution_count": null,
      "outputs": [
        {
          "output_type": "stream",
          "name": "stdout",
          "text": [
            "enter marks50\n",
            "enter marks70\n",
            "enter marks60\n",
            "enter marks60\n",
            "enter marks50\n",
            "fail\n"
          ]
        }
      ]
    },
    {
      "cell_type": "markdown",
      "source": [
        "#Printing all even numbers, odd numbers, count of even numbers, count of odd numbers within a given range.\n"
      ],
      "metadata": {
        "id": "tn1Tncw-iGrd"
      }
    },
    {
      "cell_type": "code",
      "source": [
        "n=int(input(\"enter range \"))\n",
        "c=0\n",
        "for i in range(1,n+1):\n",
        " if i%2==0:\n",
        "   c+=1\n",
        "   print(i)\n",
        "\n",
        "\n",
        "print(\"even count is \",c)\n",
        "\n",
        "d=0\n",
        "for i in range(1,n+1):\n",
        "  if i%2!=0: \n",
        "    d+=1\n",
        "    print(i)\n",
        "\n",
        "print(\"odd count is \",d)\n",
        "\n"
      ],
      "metadata": {
        "colab": {
          "base_uri": "https://localhost:8080/"
        },
        "id": "0vQ_Pyu4oSye",
        "outputId": "1b988351-11e6-489d-c358-6e3a7f195cbb"
      },
      "execution_count": null,
      "outputs": [
        {
          "output_type": "stream",
          "name": "stdout",
          "text": [
            "enter range 5\n",
            "2\n",
            "4\n",
            "even count is  2\n",
            "1\n",
            "3\n",
            "5\n",
            "odd count is  3\n"
          ]
        }
      ]
    },
    {
      "cell_type": "markdown",
      "source": [
        "#Compute the factorial of a given number\n"
      ],
      "metadata": {
        "id": "67nYwwi9KRlT"
      }
    },
    {
      "cell_type": "code",
      "source": [
        "n=int(input(\"enter a number \"))\n",
        "fac=1\n",
        "for i in range(1,n+1):\n",
        "  fac=fac*i\n",
        "\n",
        "print(fac)"
      ],
      "metadata": {
        "colab": {
          "base_uri": "https://localhost:8080/"
        },
        "id": "bX80ls-hKdOP",
        "outputId": "28b56389-b257-4420-d64d-b02cb848b526"
      },
      "execution_count": null,
      "outputs": [
        {
          "output_type": "stream",
          "name": "stdout",
          "text": [
            "enter a number 4\n",
            "24\n"
          ]
        }
      ]
    },
    {
      "cell_type": "markdown",
      "source": [
        "#Compute GCD of two given "
      ],
      "metadata": {
        "id": "MTfXFezGKyOA"
      }
    },
    {
      "cell_type": "code",
      "source": [
        "a=int(input(\"enter a number\"))\n",
        "b=int(input(\"enter a number\"))\n",
        "k=a if a<b else b\n",
        "while True:\n",
        "    if a%k==0 and b%k==0:\n",
        "     break\n",
        "    k -=1\n",
        "print(k)"
      ],
      "metadata": {
        "colab": {
          "base_uri": "https://localhost:8080/"
        },
        "id": "JNGGQ1LXK3ui",
        "outputId": "fa070a60-9df0-42c7-dd28-a19905ad7eae"
      },
      "execution_count": null,
      "outputs": [
        {
          "output_type": "stream",
          "name": "stdout",
          "text": [
            "enter a number5\n",
            "enter a number5\n",
            "5\n"
          ]
        }
      ]
    },
    {
      "cell_type": "code",
      "source": [
        "return s==s[::-1]\n",
        "s=input(\"enter the value\")\n",
        "ans=isPalindrome(s)\n",
        "if ans:\n",
        "print(\"Yes\")\n",
        "else:\n",
        "def isPalindrome(s):"
      ],
      "metadata": {
        "id": "cpt-JfbRMh8G"
      },
      "execution_count": null,
      "outputs": []
    }
  ]
}